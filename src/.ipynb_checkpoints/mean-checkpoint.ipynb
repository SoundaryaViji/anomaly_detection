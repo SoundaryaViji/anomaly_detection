{
 "cells": [
  {
   "cell_type": "code",
   "execution_count": 16,
   "metadata": {},
   "outputs": [],
   "source": [
    "import json\n",
    "import numpy as np\n",
    "import os\n",
    "import sys\n",
    "\n",
    "cmdargs = sys.argv\n",
    "def getfile(path):\n",
    "    file = os.path.abspath(os.path.join(os.path.dirname('__file__'), path))\n",
    "    return file\n",
    "\n",
    "\n",
    "#file = getfile(cmdargs[1]) or getfile('../sample_dataset/batch_log.json')\n",
    "#streamlog = getfile(cmdargs[2]) or getfile('../sample_dataset/stream_log.json')             \n",
    "#flaggedPurchase = getfile(cmdargs[3]) or getfile('../log_output/flagged_purchases.json')\n",
    "\n",
    "\n",
    "file =  getfile('../insight_testsuite/tests/test_4/log_input/batch_log.json')\n",
    "streamlog =  getfile('../insight_testsuite/tests/test_4/log_input/stream_log.json')             \n",
    "flaggedPurchase =  getfile('../insight_testsuite/tests/test_4/log_output/flagged_purchases.json')\n",
    "\n",
    "array = []\n",
    "D = 1\n",
    "T = 2\n",
    "friend = {}\n",
    "listoffriend = []\n",
    "purchases = {}\n",
    "purchaseDetails = []\n",
    "\n",
    "#Reading from the file\n",
    "with open(file, \"r\") as f:\n",
    "  for line in f:\n",
    "    if \"D\" in line and \"T\" in line:\n",
    "     d = json.loads(line)\n",
    "     D = int(d[\"D\"]) \n",
    "     T = int(d[\"T\"])\n",
    "    if \"befriend\" in line:\n",
    "        b = json.loads(line)\n",
    "        id = b[\"id1\"]\n",
    "        if id in friend:\n",
    "            friend[id].extend([b[\"id2\"]])\n",
    "        else:\n",
    "             friend[id] = [b[\"id2\"]]\n",
    "        id1 = b[\"id2\"]\n",
    "        if id1 in friend:\n",
    "            friend[id1].extend([b[\"id1\"]])\n",
    "        else:\n",
    "             friend[id1] = [b[\"id1\"]]\n",
    "        \n",
    "    elif \"unfriend\" in line:\n",
    "        b= json.loads(line)\n",
    "        id = b[\"id1\"]\n",
    "        if id in friend:\n",
    "            friend[id].remove(b[\"id2\"])\n",
    "            friend[b[\"id2\"]].remove(id)\n",
    "\n",
    "            \n",
    "    elif \"purchase\" in line:\n",
    "        b = json.loads(line)\n",
    "        if b[\"id\"] in purchases.keys():\n",
    "             purchases[b[\"id\"]].extend([b[\"amount\"],b[\"timestamp\"]])\n",
    "        else: \n",
    "             purchases[b[\"id\"]] = [b[\"amount\"],b[\"timestamp\"]]\n",
    "\n",
    "#print(friend)\n",
    "#print(purchases)\n",
    "#def networkpurchase(user):\n",
    "    \n",
    "def anomaly(user):\n",
    "    y=[]\n",
    "    aa =0\n",
    "    mean =0\n",
    "    sd =0\n",
    "    network = 1\n",
    "    networklist= []\n",
    "    u = user\n",
    "    while network > 0:\n",
    "        if u not in networklist:\n",
    "                networklist.append(u)\n",
    "        for fri in friend[u]:\n",
    "            if fri not in networklist:\n",
    "                networklist.append(fri)\n",
    "            u=fri   \n",
    "        network = network -1\n",
    "    #print(networklist)\n",
    "    for j in networklist:\n",
    "        if j in purchases:\n",
    "            for k in purchases[j][::2]:\n",
    "                        if len(y) <= T:\n",
    "                            y.append(float(k))\n",
    "                                   \n",
    "    \n",
    "    if  len(y) !=0 or len(y) > 2:\n",
    "        mean = np.mean(y) \n",
    "        sd = np.std(y)\n",
    "        aa = mean + (3 * sd)\n",
    "        return (aa,mean,sd)\n",
    "    \n",
    "open(flaggedPurchase,\"w\")\n",
    "with open(streamlog, \"r\") as f:\n",
    "    for line in f:\n",
    "    # d = json.loads(line)\n",
    "        if \"befriend\" in line:\n",
    "            b = json.loads(line)\n",
    "            id = b[\"id1\"]\n",
    "            if id in friend:\n",
    "                friend[id].extend([b[\"id2\"]])\n",
    "            else:\n",
    "                 friend[id] = [b[\"id2\"]]\n",
    "            id1 = b[\"id2\"]\n",
    "            if id1 in friend:\n",
    "                friend[id1].extend([b[\"id1\"]])\n",
    "            else:\n",
    "                 friend[id1] = [b[\"id1\"]]\n",
    "\n",
    "        elif \"unfriend\" in line:\n",
    "            b= json.loads(line)\n",
    "            id = b[\"id1\"]\n",
    "            if id in friend:\n",
    "                friend[id].remove(b[\"id2\"])\n",
    "                friend[b[\"id2\"]].remove(id)\n",
    "\n",
    "        elif \"purchase\" in line:\n",
    "            b = json.loads(line)\n",
    "            t = anomaly(b[\"id\"])\n",
    "            if b[\"id\"] in purchases.keys():\n",
    "                 purchases[b[\"id\"]].extend([b[\"amount\"],b[\"timestamp\"]])\n",
    "            else: \n",
    "                 purchases[b[\"id\"]] = [b[\"amount\"],b[\"timestamp\"]] \n",
    "           # print(t)\n",
    "            if t[0] > 0:\n",
    "                if float(b[\"amount\"]) > t[0]:\n",
    "                  with open(flaggedPurchase,\"a\")as w:\n",
    "                    b[\"mean\"]= '%.2f' % t[1]\n",
    "                    b[\"sd\"] = '%.2f' % t[2]\n",
    "                    json.dump(b,w) \n",
    "\n"
   ]
  },
  {
   "cell_type": "code",
   "execution_count": 11,
   "metadata": {},
   "outputs": [
    {
     "data": {
      "text/plain": [
       "2"
      ]
     },
     "execution_count": 11,
     "metadata": {},
     "output_type": "execute_result"
    }
   ],
   "source": [
    "2"
   ]
  },
  {
   "cell_type": "code",
   "execution_count": 1,
   "metadata": {},
   "outputs": [
    {
     "data": {
      "text/plain": [
       "3"
      ]
     },
     "execution_count": 1,
     "metadata": {},
     "output_type": "execute_result"
    }
   ],
   "source": [
    "3"
   ]
  },
  {
   "cell_type": "code",
   "execution_count": null,
   "metadata": {
    "collapsed": true
   },
   "outputs": [],
   "source": []
  },
  {
   "cell_type": "code",
   "execution_count": null,
   "metadata": {
    "collapsed": true
   },
   "outputs": [],
   "source": []
  },
  {
   "cell_type": "code",
   "execution_count": null,
   "metadata": {
    "collapsed": true
   },
   "outputs": [],
   "source": []
  }
 ],
 "metadata": {
  "kernelspec": {
   "display_name": "Python 3",
   "language": "python",
   "name": "python3"
  },
  "language_info": {
   "codemirror_mode": {
    "name": "ipython",
    "version": 3
   },
   "file_extension": ".py",
   "mimetype": "text/x-python",
   "name": "python",
   "nbconvert_exporter": "python",
   "pygments_lexer": "ipython3",
   "version": "3.6.1"
  }
 },
 "nbformat": 4,
 "nbformat_minor": 2
}
